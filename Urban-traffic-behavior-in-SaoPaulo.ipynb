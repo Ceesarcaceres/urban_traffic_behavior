{
 "cells": [
  {
   "cell_type": "markdown",
   "id": "ccfc5b42",
   "metadata": {},
   "source": [
    "## Behavior of Urban Traffic of the City São Paulo"
   ]
  },
  {
   "cell_type": "markdown",
   "id": "d2eeca00",
   "metadata": {},
   "source": [
    "### Dados do dataset e análise\n",
    "\n",
    "Dataset de dados públicos disponível no link abaixo:\n",
    "https://archive-beta.ics.uci.edu/ml/datasets/behavior+of+the+urban+traffic+of+the+city+of+sao+paulo+in+brazil\n",
    "\n",
    "Dataset contém dados coletados no período de 14/12/2009 a 18/12/2009, dados foram registrados de 07:00 à 20:00 a cada 30 minutos.\n",
    "\n",
    "Informações sobre as instâncias do dataset\n",
    "\n",
    "1.\tHour\n",
    "2.\tImmobilized bus\n",
    "3.\tBroken Truck\n",
    "4.\tVehicle excess\n",
    "5.\tAccident victim\n",
    "6.\tRunning over\n",
    "7.\tFire Vehicles\n",
    "8.\tOccurrence involving freight\n",
    "9.\tIncident involving dangerous freight\n",
    "10.\tLack of electricity\n",
    "11.\tFire\n",
    "12.\tPoint of flooding\n",
    "13.\tManifestations\n",
    "14.\tDefect in the network of trolleybuses\n",
    "15.\tTree on the road\n",
    "16.\tSemaphore off\n",
    "17.\tIntermittent Semaphore\n",
    "18.\tSlowness in traffic (%) (Target)"
   ]
  },
  {
   "cell_type": "code",
   "execution_count": 1,
   "id": "6a0a7670",
   "metadata": {},
   "outputs": [],
   "source": [
    "#!pip install --upgrade google-cloud-bigquery\n",
    "#!pip install db-dtypes\n",
    "#!pip install statsmodels"
   ]
  },
  {
   "cell_type": "code",
   "execution_count": 2,
   "id": "4cf2c0a6",
   "metadata": {},
   "outputs": [],
   "source": [
    "# Imports\n",
    "import pandas as pd\n",
    "import numpy as np\n",
    "import matplotlib.pyplot as plt\n",
    "import matplotlib as mpl\n",
    "from sklearn import linear_model\n",
    "from sklearn.metrics import r2_score\n",
    "from sklearn.pipeline import make_pipeline\n",
    "from sklearn.preprocessing import StandardScaler\n",
    "import statsmodels.api as sm\n",
    "import statsmodels.formula.api as smf\n",
    "import warnings\n",
    "warnings.filterwarnings(\"ignore\")\n",
    "%matplotlib inline"
   ]
  },
  {
   "cell_type": "code",
   "execution_count": 3,
   "id": "6c7d7131",
   "metadata": {},
   "outputs": [],
   "source": [
    "# Import da lib google cloud e realizando a leitura das credenciais da Conta de Serviço\n",
    "from google.cloud import bigquery\n",
    "from google.oauth2 import service_account\n",
    "credentials = service_account.Credentials.from_service_account_file('./Projeto_python_bq/python-api-gads-5adb7d92600d.json')"
   ]
  },
  {
   "cell_type": "code",
   "execution_count": 4,
   "id": "2c493b53",
   "metadata": {},
   "outputs": [],
   "source": [
    "# Conectando com o id do projeto \n",
    "project_id = 'python-api-gads'\n",
    "client = bigquery.Client(credentials = credentials, project = project_id)"
   ]
  },
  {
   "cell_type": "code",
   "execution_count": 5,
   "id": "28378b6a",
   "metadata": {},
   "outputs": [
    {
     "name": "stdout",
     "output_type": "stream",
     "text": [
      "Total rows available:  135\n"
     ]
    }
   ],
   "source": [
    "# Query na tabela do BigQuery e print do resultado de linhas\n",
    "query_job = client.query(\"\"\"\n",
    "SELECT * from `python-api-gads.python_datasets.urban_traffic_behavior_in_sp`\"\"\")\n",
    "results = query_job.result()\n",
    "print(\"Total rows available: \", results.total_rows)"
   ]
  },
  {
   "cell_type": "code",
   "execution_count": 6,
   "id": "12c6ede3",
   "metadata": {},
   "outputs": [],
   "source": [
    "# Transformando os resultados em dataframe\n",
    "df = results.to_dataframe()"
   ]
  },
  {
   "cell_type": "code",
   "execution_count": 7,
   "id": "920ec0aa",
   "metadata": {},
   "outputs": [],
   "source": [
    "data = pd.DataFrame(df)"
   ]
  },
  {
   "cell_type": "code",
   "execution_count": 8,
   "id": "d8eb4f95",
   "metadata": {},
   "outputs": [
    {
     "data": {
      "text/plain": [
       "Hour_coded_                                Int64\n",
       "Immobilized_bus                            Int64\n",
       "Broken_Truck                               Int64\n",
       "Vehicle_excess                             Int64\n",
       "Accident_victim                            Int64\n",
       "Running_over                               Int64\n",
       "Fire_vehicles                              Int64\n",
       "Occurrence_involving_freight               Int64\n",
       "Incident_involving_dangerous_freight       Int64\n",
       "Lack_of_electricity                        Int64\n",
       "Fire                                       Int64\n",
       "Point_of_flooding                          Int64\n",
       "Manifestations                             Int64\n",
       "Defect_in_the_network_of_trolleybuses      Int64\n",
       "Tree_on_the_road                           Int64\n",
       "Semaphore_off                              Int64\n",
       "Intermittent_Semaphore                     Int64\n",
       "Slowness_in_traffic_percent              float64\n",
       "dtype: object"
      ]
     },
     "execution_count": 8,
     "metadata": {},
     "output_type": "execute_result"
    }
   ],
   "source": [
    "data.dtypes"
   ]
  },
  {
   "cell_type": "code",
   "execution_count": 9,
   "id": "4beb21f9",
   "metadata": {},
   "outputs": [
    {
     "data": {
      "text/html": [
       "<div>\n",
       "<style scoped>\n",
       "    .dataframe tbody tr th:only-of-type {\n",
       "        vertical-align: middle;\n",
       "    }\n",
       "\n",
       "    .dataframe tbody tr th {\n",
       "        vertical-align: top;\n",
       "    }\n",
       "\n",
       "    .dataframe thead th {\n",
       "        text-align: right;\n",
       "    }\n",
       "</style>\n",
       "<table border=\"1\" class=\"dataframe\">\n",
       "  <thead>\n",
       "    <tr style=\"text-align: right;\">\n",
       "      <th></th>\n",
       "      <th>Hour_coded_</th>\n",
       "      <th>Immobilized_bus</th>\n",
       "      <th>Broken_Truck</th>\n",
       "      <th>Vehicle_excess</th>\n",
       "      <th>Accident_victim</th>\n",
       "      <th>Running_over</th>\n",
       "      <th>Fire_vehicles</th>\n",
       "      <th>Occurrence_involving_freight</th>\n",
       "      <th>Incident_involving_dangerous_freight</th>\n",
       "      <th>Lack_of_electricity</th>\n",
       "      <th>Fire</th>\n",
       "      <th>Point_of_flooding</th>\n",
       "      <th>Manifestations</th>\n",
       "      <th>Defect_in_the_network_of_trolleybuses</th>\n",
       "      <th>Tree_on_the_road</th>\n",
       "      <th>Semaphore_off</th>\n",
       "      <th>Intermittent_Semaphore</th>\n",
       "      <th>Slowness_in_traffic_percent</th>\n",
       "    </tr>\n",
       "  </thead>\n",
       "  <tbody>\n",
       "    <tr>\n",
       "      <th>0</th>\n",
       "      <td>1</td>\n",
       "      <td>0</td>\n",
       "      <td>0</td>\n",
       "      <td>0</td>\n",
       "      <td>0</td>\n",
       "      <td>0</td>\n",
       "      <td>0</td>\n",
       "      <td>0</td>\n",
       "      <td>0</td>\n",
       "      <td>0</td>\n",
       "      <td>0</td>\n",
       "      <td>0</td>\n",
       "      <td>0</td>\n",
       "      <td>0</td>\n",
       "      <td>0</td>\n",
       "      <td>0</td>\n",
       "      <td>0</td>\n",
       "      <td>41.0</td>\n",
       "    </tr>\n",
       "    <tr>\n",
       "      <th>1</th>\n",
       "      <td>1</td>\n",
       "      <td>1</td>\n",
       "      <td>0</td>\n",
       "      <td>0</td>\n",
       "      <td>0</td>\n",
       "      <td>0</td>\n",
       "      <td>0</td>\n",
       "      <td>0</td>\n",
       "      <td>0</td>\n",
       "      <td>0</td>\n",
       "      <td>0</td>\n",
       "      <td>0</td>\n",
       "      <td>0</td>\n",
       "      <td>1</td>\n",
       "      <td>1</td>\n",
       "      <td>0</td>\n",
       "      <td>0</td>\n",
       "      <td>49.0</td>\n",
       "    </tr>\n",
       "    <tr>\n",
       "      <th>2</th>\n",
       "      <td>1</td>\n",
       "      <td>0</td>\n",
       "      <td>0</td>\n",
       "      <td>1</td>\n",
       "      <td>0</td>\n",
       "      <td>0</td>\n",
       "      <td>0</td>\n",
       "      <td>0</td>\n",
       "      <td>0</td>\n",
       "      <td>0</td>\n",
       "      <td>0</td>\n",
       "      <td>0</td>\n",
       "      <td>0</td>\n",
       "      <td>0</td>\n",
       "      <td>0</td>\n",
       "      <td>0</td>\n",
       "      <td>0</td>\n",
       "      <td>34.0</td>\n",
       "    </tr>\n",
       "    <tr>\n",
       "      <th>3</th>\n",
       "      <td>1</td>\n",
       "      <td>0</td>\n",
       "      <td>0</td>\n",
       "      <td>0</td>\n",
       "      <td>0</td>\n",
       "      <td>0</td>\n",
       "      <td>0</td>\n",
       "      <td>0</td>\n",
       "      <td>0</td>\n",
       "      <td>0</td>\n",
       "      <td>0</td>\n",
       "      <td>0</td>\n",
       "      <td>1</td>\n",
       "      <td>3</td>\n",
       "      <td>0</td>\n",
       "      <td>0</td>\n",
       "      <td>0</td>\n",
       "      <td>4.0</td>\n",
       "    </tr>\n",
       "    <tr>\n",
       "      <th>4</th>\n",
       "      <td>1</td>\n",
       "      <td>0</td>\n",
       "      <td>0</td>\n",
       "      <td>0</td>\n",
       "      <td>1</td>\n",
       "      <td>0</td>\n",
       "      <td>0</td>\n",
       "      <td>0</td>\n",
       "      <td>0</td>\n",
       "      <td>0</td>\n",
       "      <td>0</td>\n",
       "      <td>0</td>\n",
       "      <td>0</td>\n",
       "      <td>8</td>\n",
       "      <td>0</td>\n",
       "      <td>1</td>\n",
       "      <td>0</td>\n",
       "      <td>34.0</td>\n",
       "    </tr>\n",
       "  </tbody>\n",
       "</table>\n",
       "</div>"
      ],
      "text/plain": [
       "   Hour_coded_  Immobilized_bus  Broken_Truck  Vehicle_excess  \\\n",
       "0            1                0             0               0   \n",
       "1            1                1             0               0   \n",
       "2            1                0             0               1   \n",
       "3            1                0             0               0   \n",
       "4            1                0             0               0   \n",
       "\n",
       "   Accident_victim  Running_over  Fire_vehicles  Occurrence_involving_freight  \\\n",
       "0                0             0              0                             0   \n",
       "1                0             0              0                             0   \n",
       "2                0             0              0                             0   \n",
       "3                0             0              0                             0   \n",
       "4                1             0              0                             0   \n",
       "\n",
       "   Incident_involving_dangerous_freight  Lack_of_electricity  Fire  \\\n",
       "0                                     0                    0     0   \n",
       "1                                     0                    0     0   \n",
       "2                                     0                    0     0   \n",
       "3                                     0                    0     0   \n",
       "4                                     0                    0     0   \n",
       "\n",
       "   Point_of_flooding  Manifestations  Defect_in_the_network_of_trolleybuses  \\\n",
       "0                  0               0                                      0   \n",
       "1                  0               0                                      1   \n",
       "2                  0               0                                      0   \n",
       "3                  0               1                                      3   \n",
       "4                  0               0                                      8   \n",
       "\n",
       "   Tree_on_the_road  Semaphore_off  Intermittent_Semaphore  \\\n",
       "0                 0              0                       0   \n",
       "1                 1              0                       0   \n",
       "2                 0              0                       0   \n",
       "3                 0              0                       0   \n",
       "4                 0              1                       0   \n",
       "\n",
       "   Slowness_in_traffic_percent  \n",
       "0                         41.0  \n",
       "1                         49.0  \n",
       "2                         34.0  \n",
       "3                          4.0  \n",
       "4                         34.0  "
      ]
     },
     "execution_count": 9,
     "metadata": {},
     "output_type": "execute_result"
    }
   ],
   "source": [
    "data.head()"
   ]
  },
  {
   "cell_type": "code",
   "execution_count": 10,
   "id": "f47268c8",
   "metadata": {},
   "outputs": [],
   "source": [
    "# Gerando número de observações e variáveis\n",
    "observations = len(data)\n",
    "variables = data.columns[:-1]"
   ]
  },
  {
   "cell_type": "code",
   "execution_count": 11,
   "id": "a9a8cbdc",
   "metadata": {},
   "outputs": [],
   "source": [
    "X = data.iloc[:,:-1]\n",
    "y = data['Slowness_in_traffic_percent'].values"
   ]
  },
  {
   "cell_type": "code",
   "execution_count": 12,
   "id": "0c5d2282",
   "metadata": {},
   "outputs": [
    {
     "data": {
      "text/html": [
       "<div>\n",
       "<style scoped>\n",
       "    .dataframe tbody tr th:only-of-type {\n",
       "        vertical-align: middle;\n",
       "    }\n",
       "\n",
       "    .dataframe tbody tr th {\n",
       "        vertical-align: top;\n",
       "    }\n",
       "\n",
       "    .dataframe thead th {\n",
       "        text-align: right;\n",
       "    }\n",
       "</style>\n",
       "<table border=\"1\" class=\"dataframe\">\n",
       "  <thead>\n",
       "    <tr style=\"text-align: right;\">\n",
       "      <th></th>\n",
       "      <th>Hour_coded_</th>\n",
       "      <th>Immobilized_bus</th>\n",
       "      <th>Broken_Truck</th>\n",
       "      <th>Vehicle_excess</th>\n",
       "      <th>Accident_victim</th>\n",
       "      <th>Running_over</th>\n",
       "      <th>Fire_vehicles</th>\n",
       "      <th>Occurrence_involving_freight</th>\n",
       "      <th>Incident_involving_dangerous_freight</th>\n",
       "      <th>Lack_of_electricity</th>\n",
       "      <th>Fire</th>\n",
       "      <th>Point_of_flooding</th>\n",
       "      <th>Manifestations</th>\n",
       "      <th>Defect_in_the_network_of_trolleybuses</th>\n",
       "      <th>Tree_on_the_road</th>\n",
       "      <th>Semaphore_off</th>\n",
       "      <th>Intermittent_Semaphore</th>\n",
       "    </tr>\n",
       "  </thead>\n",
       "  <tbody>\n",
       "    <tr>\n",
       "      <th>0</th>\n",
       "      <td>1</td>\n",
       "      <td>0</td>\n",
       "      <td>0</td>\n",
       "      <td>0</td>\n",
       "      <td>0</td>\n",
       "      <td>0</td>\n",
       "      <td>0</td>\n",
       "      <td>0</td>\n",
       "      <td>0</td>\n",
       "      <td>0</td>\n",
       "      <td>0</td>\n",
       "      <td>0</td>\n",
       "      <td>0</td>\n",
       "      <td>0</td>\n",
       "      <td>0</td>\n",
       "      <td>0</td>\n",
       "      <td>0</td>\n",
       "    </tr>\n",
       "    <tr>\n",
       "      <th>1</th>\n",
       "      <td>1</td>\n",
       "      <td>1</td>\n",
       "      <td>0</td>\n",
       "      <td>0</td>\n",
       "      <td>0</td>\n",
       "      <td>0</td>\n",
       "      <td>0</td>\n",
       "      <td>0</td>\n",
       "      <td>0</td>\n",
       "      <td>0</td>\n",
       "      <td>0</td>\n",
       "      <td>0</td>\n",
       "      <td>0</td>\n",
       "      <td>1</td>\n",
       "      <td>1</td>\n",
       "      <td>0</td>\n",
       "      <td>0</td>\n",
       "    </tr>\n",
       "    <tr>\n",
       "      <th>2</th>\n",
       "      <td>1</td>\n",
       "      <td>0</td>\n",
       "      <td>0</td>\n",
       "      <td>1</td>\n",
       "      <td>0</td>\n",
       "      <td>0</td>\n",
       "      <td>0</td>\n",
       "      <td>0</td>\n",
       "      <td>0</td>\n",
       "      <td>0</td>\n",
       "      <td>0</td>\n",
       "      <td>0</td>\n",
       "      <td>0</td>\n",
       "      <td>0</td>\n",
       "      <td>0</td>\n",
       "      <td>0</td>\n",
       "      <td>0</td>\n",
       "    </tr>\n",
       "    <tr>\n",
       "      <th>3</th>\n",
       "      <td>1</td>\n",
       "      <td>0</td>\n",
       "      <td>0</td>\n",
       "      <td>0</td>\n",
       "      <td>0</td>\n",
       "      <td>0</td>\n",
       "      <td>0</td>\n",
       "      <td>0</td>\n",
       "      <td>0</td>\n",
       "      <td>0</td>\n",
       "      <td>0</td>\n",
       "      <td>0</td>\n",
       "      <td>1</td>\n",
       "      <td>3</td>\n",
       "      <td>0</td>\n",
       "      <td>0</td>\n",
       "      <td>0</td>\n",
       "    </tr>\n",
       "    <tr>\n",
       "      <th>4</th>\n",
       "      <td>1</td>\n",
       "      <td>0</td>\n",
       "      <td>0</td>\n",
       "      <td>0</td>\n",
       "      <td>1</td>\n",
       "      <td>0</td>\n",
       "      <td>0</td>\n",
       "      <td>0</td>\n",
       "      <td>0</td>\n",
       "      <td>0</td>\n",
       "      <td>0</td>\n",
       "      <td>0</td>\n",
       "      <td>0</td>\n",
       "      <td>8</td>\n",
       "      <td>0</td>\n",
       "      <td>1</td>\n",
       "      <td>0</td>\n",
       "    </tr>\n",
       "  </tbody>\n",
       "</table>\n",
       "</div>"
      ],
      "text/plain": [
       "   Hour_coded_  Immobilized_bus  Broken_Truck  Vehicle_excess  \\\n",
       "0            1                0             0               0   \n",
       "1            1                1             0               0   \n",
       "2            1                0             0               1   \n",
       "3            1                0             0               0   \n",
       "4            1                0             0               0   \n",
       "\n",
       "   Accident_victim  Running_over  Fire_vehicles  Occurrence_involving_freight  \\\n",
       "0                0             0              0                             0   \n",
       "1                0             0              0                             0   \n",
       "2                0             0              0                             0   \n",
       "3                0             0              0                             0   \n",
       "4                1             0              0                             0   \n",
       "\n",
       "   Incident_involving_dangerous_freight  Lack_of_electricity  Fire  \\\n",
       "0                                     0                    0     0   \n",
       "1                                     0                    0     0   \n",
       "2                                     0                    0     0   \n",
       "3                                     0                    0     0   \n",
       "4                                     0                    0     0   \n",
       "\n",
       "   Point_of_flooding  Manifestations  Defect_in_the_network_of_trolleybuses  \\\n",
       "0                  0               0                                      0   \n",
       "1                  0               0                                      1   \n",
       "2                  0               0                                      0   \n",
       "3                  0               1                                      3   \n",
       "4                  0               0                                      8   \n",
       "\n",
       "   Tree_on_the_road  Semaphore_off  Intermittent_Semaphore  \n",
       "0                 0              0                       0  \n",
       "1                 1              0                       0  \n",
       "2                 0              0                       0  \n",
       "3                 0              0                       0  \n",
       "4                 0              1                       0  "
      ]
     },
     "execution_count": 12,
     "metadata": {},
     "output_type": "execute_result"
    }
   ],
   "source": [
    "# print das variáveis exploratórias \n",
    "X.head()"
   ]
  },
  {
   "cell_type": "code",
   "execution_count": 13,
   "id": "0adaaf32",
   "metadata": {},
   "outputs": [
    {
     "data": {
      "text/plain": [
       "array([ 41.,  49.,  34.,   4.,  34.,  66.,  63.,   5.,   5.,  87.,   8.,\n",
       "        57.,  92.,  95.,  56., 111.,  85., 109.,  95.,  76.,  83.,  76.,\n",
       "        82.,  77.,  66.,  76.,  83.,  64.,  85.,  52.,  74.,  82., 103.,\n",
       "        48.,  81.,  53.,   8., 109.,  69.,  51.,  94.,  67., 113.,  81.,\n",
       "        13., 121., 146.,  94., 131., 171.,  99., 137., 196., 178., 112.,\n",
       "       183., 181., 177., 114., 234., 215.,  11., 193., 121.,  38.,  53.,\n",
       "        55.,  59.,  64., 103.,   7.,  79.,  65.,  74.,  77., 123.,  85.,\n",
       "        87.,  77.,  47.,  79.,  87.,   8.,  11.,  97.,  68.,  83.,  83.,\n",
       "        92., 121.,  89., 105., 122.,  99.,  11., 111.,  95.,  15., 121.,\n",
       "       137., 174., 156., 202., 118., 168., 199.,  74.,  82.,   9.,  62.,\n",
       "       103.,  67., 109.,  77., 119., 101.,  49.,  78.,  62.,  51., 114.,\n",
       "       103., 139., 101., 108., 125., 153., 226., 221.,  74., 101.,  93.,\n",
       "       156., 174.,  84.])"
      ]
     },
     "execution_count": 13,
     "metadata": {},
     "output_type": "execute_result"
    }
   ],
   "source": [
    "# Variável target\n",
    "y"
   ]
  },
  {
   "cell_type": "code",
   "execution_count": 14,
   "id": "c6b43796",
   "metadata": {},
   "outputs": [],
   "source": [
    "Xc = sm.add_constant(X)\n",
    "modelo = sm.OLS(y, Xc.astype(float))\n",
    "modelo_v1 = modelo.fit()"
   ]
  },
  {
   "cell_type": "code",
   "execution_count": 15,
   "id": "d4408e2a",
   "metadata": {},
   "outputs": [
    {
     "data": {
      "text/html": [
       "<table class=\"simpletable\">\n",
       "<caption>OLS Regression Results</caption>\n",
       "<tr>\n",
       "  <th>Dep. Variable:</th>            <td>y</td>        <th>  R-squared:         </th> <td>   0.524</td>\n",
       "</tr>\n",
       "<tr>\n",
       "  <th>Model:</th>                   <td>OLS</td>       <th>  Adj. R-squared:    </th> <td>   0.455</td>\n",
       "</tr>\n",
       "<tr>\n",
       "  <th>Method:</th>             <td>Least Squares</td>  <th>  F-statistic:       </th> <td>   7.590</td>\n",
       "</tr>\n",
       "<tr>\n",
       "  <th>Date:</th>             <td>Fri, 23 Sep 2022</td> <th>  Prob (F-statistic):</th> <td>2.50e-12</td>\n",
       "</tr>\n",
       "<tr>\n",
       "  <th>Time:</th>                 <td>01:27:07</td>     <th>  Log-Likelihood:    </th> <td> -670.38</td>\n",
       "</tr>\n",
       "<tr>\n",
       "  <th>No. Observations:</th>      <td>   135</td>      <th>  AIC:               </th> <td>   1377.</td>\n",
       "</tr>\n",
       "<tr>\n",
       "  <th>Df Residuals:</th>          <td>   117</td>      <th>  BIC:               </th> <td>   1429.</td>\n",
       "</tr>\n",
       "<tr>\n",
       "  <th>Df Model:</th>              <td>    17</td>      <th>                     </th>     <td> </td>   \n",
       "</tr>\n",
       "<tr>\n",
       "  <th>Covariance Type:</th>      <td>nonrobust</td>    <th>                     </th>     <td> </td>   \n",
       "</tr>\n",
       "</table>\n",
       "<table class=\"simpletable\">\n",
       "<tr>\n",
       "                    <td></td>                       <th>coef</th>     <th>std err</th>      <th>t</th>      <th>P>|t|</th>  <th>[0.025</th>    <th>0.975]</th>  \n",
       "</tr>\n",
       "<tr>\n",
       "  <th>const</th>                                 <td>   44.2202</td> <td>    7.797</td> <td>    5.672</td> <td> 0.000</td> <td>   28.779</td> <td>   59.662</td>\n",
       "</tr>\n",
       "<tr>\n",
       "  <th>Hour_coded_</th>                           <td>    3.2150</td> <td>    0.470</td> <td>    6.836</td> <td> 0.000</td> <td>    2.284</td> <td>    4.146</td>\n",
       "</tr>\n",
       "<tr>\n",
       "  <th>Immobilized_bus</th>                       <td>    6.2673</td> <td>    5.486</td> <td>    1.143</td> <td> 0.256</td> <td>   -4.597</td> <td>   17.131</td>\n",
       "</tr>\n",
       "<tr>\n",
       "  <th>Broken_Truck</th>                          <td>    1.0839</td> <td>    3.194</td> <td>    0.339</td> <td> 0.735</td> <td>   -5.242</td> <td>    7.410</td>\n",
       "</tr>\n",
       "<tr>\n",
       "  <th>Vehicle_excess</th>                        <td>  -38.0613</td> <td>   19.800</td> <td>   -1.922</td> <td> 0.057</td> <td>  -77.274</td> <td>    1.151</td>\n",
       "</tr>\n",
       "<tr>\n",
       "  <th>Accident_victim</th>                       <td>   -4.6436</td> <td>    5.043</td> <td>   -0.921</td> <td> 0.359</td> <td>  -14.630</td> <td>    5.343</td>\n",
       "</tr>\n",
       "<tr>\n",
       "  <th>Running_over</th>                          <td>    5.5297</td> <td>    9.955</td> <td>    0.555</td> <td> 0.580</td> <td>  -14.185</td> <td>   25.244</td>\n",
       "</tr>\n",
       "<tr>\n",
       "  <th>Fire_vehicles</th>                         <td>   40.6976</td> <td>   38.073</td> <td>    1.069</td> <td> 0.287</td> <td>  -34.704</td> <td>  116.100</td>\n",
       "</tr>\n",
       "<tr>\n",
       "  <th>Occurrence_involving_freight</th>          <td>   11.5382</td> <td>   42.209</td> <td>    0.273</td> <td> 0.785</td> <td>  -72.054</td> <td>   95.131</td>\n",
       "</tr>\n",
       "<tr>\n",
       "  <th>Incident_involving_dangerous_freight</th>  <td>    4.2155</td> <td>   42.861</td> <td>    0.098</td> <td> 0.922</td> <td>  -80.668</td> <td>   89.099</td>\n",
       "</tr>\n",
       "<tr>\n",
       "  <th>Lack_of_electricity</th>                   <td>   17.1610</td> <td>    8.596</td> <td>    1.996</td> <td> 0.048</td> <td>    0.137</td> <td>   34.185</td>\n",
       "</tr>\n",
       "<tr>\n",
       "  <th>Fire</th>                                  <td>   -0.4540</td> <td>   37.603</td> <td>   -0.012</td> <td> 0.990</td> <td>  -74.925</td> <td>   74.017</td>\n",
       "</tr>\n",
       "<tr>\n",
       "  <th>Point_of_flooding</th>                     <td>   15.3894</td> <td>    5.090</td> <td>    3.023</td> <td> 0.003</td> <td>    5.308</td> <td>   25.471</td>\n",
       "</tr>\n",
       "<tr>\n",
       "  <th>Manifestations</th>                        <td>    0.7108</td> <td>   17.674</td> <td>    0.040</td> <td> 0.968</td> <td>  -34.291</td> <td>   35.713</td>\n",
       "</tr>\n",
       "<tr>\n",
       "  <th>Defect_in_the_network_of_trolleybuses</th> <td>   -4.3262</td> <td>    4.256</td> <td>   -1.016</td> <td> 0.312</td> <td>  -12.755</td> <td>    4.103</td>\n",
       "</tr>\n",
       "<tr>\n",
       "  <th>Tree_on_the_road</th>                      <td>   -8.9063</td> <td>   15.920</td> <td>   -0.559</td> <td> 0.577</td> <td>  -40.436</td> <td>   22.623</td>\n",
       "</tr>\n",
       "<tr>\n",
       "  <th>Semaphore_off</th>                         <td>    0.8709</td> <td>    9.433</td> <td>    0.092</td> <td> 0.927</td> <td>  -17.812</td> <td>   19.553</td>\n",
       "</tr>\n",
       "<tr>\n",
       "  <th>Intermittent_Semaphore</th>                <td>   -3.9131</td> <td>   27.405</td> <td>   -0.143</td> <td> 0.887</td> <td>  -58.188</td> <td>   50.362</td>\n",
       "</tr>\n",
       "</table>\n",
       "<table class=\"simpletable\">\n",
       "<tr>\n",
       "  <th>Omnibus:</th>       <td>14.835</td> <th>  Durbin-Watson:     </th> <td>   1.924</td>\n",
       "</tr>\n",
       "<tr>\n",
       "  <th>Prob(Omnibus):</th> <td> 0.001</td> <th>  Jarque-Bera (JB):  </th> <td>  18.413</td>\n",
       "</tr>\n",
       "<tr>\n",
       "  <th>Skew:</th>          <td>-0.660</td> <th>  Prob(JB):          </th> <td>0.000100</td>\n",
       "</tr>\n",
       "<tr>\n",
       "  <th>Kurtosis:</th>      <td> 4.237</td> <th>  Cond. No.          </th> <td>    238.</td>\n",
       "</tr>\n",
       "</table><br/><br/>Notes:<br/>[1] Standard Errors assume that the covariance matrix of the errors is correctly specified."
      ],
      "text/plain": [
       "<class 'statsmodels.iolib.summary.Summary'>\n",
       "\"\"\"\n",
       "                            OLS Regression Results                            \n",
       "==============================================================================\n",
       "Dep. Variable:                      y   R-squared:                       0.524\n",
       "Model:                            OLS   Adj. R-squared:                  0.455\n",
       "Method:                 Least Squares   F-statistic:                     7.590\n",
       "Date:                Fri, 23 Sep 2022   Prob (F-statistic):           2.50e-12\n",
       "Time:                        01:27:07   Log-Likelihood:                -670.38\n",
       "No. Observations:                 135   AIC:                             1377.\n",
       "Df Residuals:                     117   BIC:                             1429.\n",
       "Df Model:                          17                                         \n",
       "Covariance Type:            nonrobust                                         \n",
       "=========================================================================================================\n",
       "                                            coef    std err          t      P>|t|      [0.025      0.975]\n",
       "---------------------------------------------------------------------------------------------------------\n",
       "const                                    44.2202      7.797      5.672      0.000      28.779      59.662\n",
       "Hour_coded_                               3.2150      0.470      6.836      0.000       2.284       4.146\n",
       "Immobilized_bus                           6.2673      5.486      1.143      0.256      -4.597      17.131\n",
       "Broken_Truck                              1.0839      3.194      0.339      0.735      -5.242       7.410\n",
       "Vehicle_excess                          -38.0613     19.800     -1.922      0.057     -77.274       1.151\n",
       "Accident_victim                          -4.6436      5.043     -0.921      0.359     -14.630       5.343\n",
       "Running_over                              5.5297      9.955      0.555      0.580     -14.185      25.244\n",
       "Fire_vehicles                            40.6976     38.073      1.069      0.287     -34.704     116.100\n",
       "Occurrence_involving_freight             11.5382     42.209      0.273      0.785     -72.054      95.131\n",
       "Incident_involving_dangerous_freight      4.2155     42.861      0.098      0.922     -80.668      89.099\n",
       "Lack_of_electricity                      17.1610      8.596      1.996      0.048       0.137      34.185\n",
       "Fire                                     -0.4540     37.603     -0.012      0.990     -74.925      74.017\n",
       "Point_of_flooding                        15.3894      5.090      3.023      0.003       5.308      25.471\n",
       "Manifestations                            0.7108     17.674      0.040      0.968     -34.291      35.713\n",
       "Defect_in_the_network_of_trolleybuses    -4.3262      4.256     -1.016      0.312     -12.755       4.103\n",
       "Tree_on_the_road                         -8.9063     15.920     -0.559      0.577     -40.436      22.623\n",
       "Semaphore_off                             0.8709      9.433      0.092      0.927     -17.812      19.553\n",
       "Intermittent_Semaphore                   -3.9131     27.405     -0.143      0.887     -58.188      50.362\n",
       "==============================================================================\n",
       "Omnibus:                       14.835   Durbin-Watson:                   1.924\n",
       "Prob(Omnibus):                  0.001   Jarque-Bera (JB):               18.413\n",
       "Skew:                          -0.660   Prob(JB):                     0.000100\n",
       "Kurtosis:                       4.237   Cond. No.                         238.\n",
       "==============================================================================\n",
       "\n",
       "Notes:\n",
       "[1] Standard Errors assume that the covariance matrix of the errors is correctly specified.\n",
       "\"\"\""
      ]
     },
     "execution_count": 15,
     "metadata": {},
     "output_type": "execute_result"
    }
   ],
   "source": [
    "modelo_v1.summary()"
   ]
  },
  {
   "cell_type": "code",
   "execution_count": 16,
   "id": "a8fafa02",
   "metadata": {},
   "outputs": [],
   "source": [
    "# Criando Correlation Plot\n",
    "\n",
    "def visualize_correlation_matrix(data_2, hurdle = 0.0):\n",
    "    R = np.corrcoef(data_2.astype(float), rowvar = 0)\n",
    "    R[np.where(np.abs(R) < hurdle)] = 0.0\n",
    "    heatmap = plt.pcolor(R, cmap = mpl.cm.coolwarm, alpha = 0.8)\n",
    "    heatmap.axes.set_frame_on(False)\n",
    "    heatmap.axes.set_yticks(np.arange(R.shape[0]) + 0.5, minor = False)\n",
    "    heatmap.axes.set_xticks(np.arange(R.shape[1]) + 0.5, minor = False)\n",
    "    heatmap.axes.set_xticklabels(variables, minor = False)\n",
    "    plt.xticks(rotation = 90)\n",
    "    heatmap.axes.set_yticklabels(variables, minor = False)\n",
    "    plt.tick_params(axis = 'both', which = 'both', bottom = 'off', top = 'off', left = 'off', right = 'off')\n",
    "    plt.colorbar()\n",
    "    plt.show()"
   ]
  },
  {
   "cell_type": "code",
   "execution_count": 17,
   "id": "94dc41a0",
   "metadata": {},
   "outputs": [
    {
     "data": {
      "image/png": "[encoded data removed]",
      "text/plain": [
       "<Figure size 432x288 with 2 Axes>"
      ]
     },
     "metadata": {
      "needs_background": "light"
     },
     "output_type": "display_data"
    }
   ],
   "source": [
    "visualize_correlation_matrix(X, hurdle = 0.2)"
   ]
  },
  {
   "cell_type": "code",
   "execution_count": 18,
   "id": "3a2ec73f",
   "metadata": {},
   "outputs": [],
   "source": [
    "corr = np.corrcoef(X.astype(float), rowvar = 0)\n",
    "eigenvalues, eigenvectors = np.linalg.eig(corr)"
   ]
  },
  {
   "cell_type": "code",
   "execution_count": 19,
   "id": "af6cc4a4",
   "metadata": {},
   "outputs": [
    {
     "name": "stdout",
     "output_type": "stream",
     "text": [
      "[2.20427951 1.65677375 1.42176742 0.31455813 0.39039805 0.49735869\n",
      " 1.25429021 0.61643186 0.68518518 1.17548076 1.10927758 0.81954403\n",
      " 0.8722385  1.0292599  1.01188577 0.96764033 0.97363035]\n"
     ]
    }
   ],
   "source": [
    "print(eigenvalues)"
   ]
  },
  {
   "cell_type": "code",
   "execution_count": 20,
   "id": "f616786b",
   "metadata": {},
   "outputs": [
    {
     "name": "stdout",
     "output_type": "stream",
     "text": [
      "[-0.09258333  0.13719298 -0.14931924 -0.05537915  0.05111654  0.03601555\n",
      " -0.0081831  -0.12767178  0.00838644 -0.64425585  0.00479883  0.1828736\n",
      " -0.07723122 -0.22698991  0.03526445  0.64614866 -0.04608465]\n"
     ]
    }
   ],
   "source": [
    "print(eigenvectors[:,3])"
   ]
  },
  {
   "cell_type": "code",
   "execution_count": 21,
   "id": "5765bae7",
   "metadata": {},
   "outputs": [
    {
     "name": "stdout",
     "output_type": "stream",
     "text": [
      "Immobilized_bus Broken_Truck Occurrence_involving_freight Lack_of_electricity Point_of_flooding Defect_in_the_network_of_trolleybuses Semaphore_off\n"
     ]
    }
   ],
   "source": [
    "print(variables[1], variables[2], variables[7], variables[9], variables[11], variables[13], variables[15])"
   ]
  },
  {
   "cell_type": "code",
   "execution_count": 22,
   "id": "75d89f9d",
   "metadata": {},
   "outputs": [],
   "source": [
    "# Aplicando Padronização \n",
    "standardization = StandardScaler()\n",
    "Xst = standardization.fit_transform(X)\n",
    "original_means = standardization.mean_\n",
    "original_stds = standardization.scale_"
   ]
  },
  {
   "cell_type": "code",
   "execution_count": 23,
   "id": "2df82f97",
   "metadata": {},
   "outputs": [],
   "source": [
    "Xst = np.column_stack((Xst, np.ones(observations)))\n",
    "y = data['Slowness_in_traffic_percent'].values"
   ]
  },
  {
   "cell_type": "code",
   "execution_count": 24,
   "id": "9cc07e5f",
   "metadata": {},
   "outputs": [],
   "source": [
    "import random\n",
    "import numpy as np\n",
    "\n",
    "def random_w( p ):\n",
    "    return np.array([np.random.normal() for j in range(p)])\n",
    "\n",
    "def hypothesis(X,w):\n",
    "    return np.dot(X,w)\n",
    "\n",
    "def loss(X,w,y):\n",
    "    return hypothesis(X,w) - y\n",
    "\n",
    "def squared_loss(X,w,y):\n",
    "    return loss(X,w,y)**2\n",
    "\n",
    "def gradient(X,w,y):\n",
    "    gradients = list()\n",
    "    n = float(len( y ))\n",
    "    for j in range(len(w)):\n",
    "        gradients.append(np.sum(loss(X,w,y) * X[:,j]) / n)\n",
    "    return gradients\n",
    "\n",
    "def update(X,w,y, alpha = 0.01):\n",
    "    return [t - alpha*g for t, g in zip(w, gradient(X,w,y))]\n",
    "\n",
    "def optimize(X,y, alpha = 0.01, eta = 10**-12, iterations = 1000):\n",
    "    w = random_w(X.shape[1])\n",
    "    path = list()\n",
    "    for k in range(iterations):\n",
    "        SSL = np.sum(squared_loss(X,w,y))\n",
    "        new_w = update(X,w,y, alpha = alpha)\n",
    "        new_SSL = np.sum(squared_loss(X,new_w,y))\n",
    "        w = new_w\n",
    "        if k>=5 and (new_SSL - SSL <= eta and new_SSL - SSL >= -eta):\n",
    "            path.append(new_SSL)\n",
    "            return w, path\n",
    "        if k % (iterations / 20) == 0:\n",
    "            path.append(new_SSL)\n",
    "    return w, path                       "
   ]
  },
  {
   "cell_type": "code",
   "execution_count": 25,
   "id": "9ad343b8",
   "metadata": {},
   "outputs": [
    {
     "name": "stdout",
     "output_type": "stream",
     "text": [
      "Coeficiente finais padronizados: 25.0412,4.1195,1.1905,-6.4538,-3.2205,1.9098,3.4897,0.9894,0.3615,8.6253,-0.0389,10.9305,0.1576,-3.5300,-1.8354,0.4027,-0.4727,92.8519\n"
     ]
    }
   ],
   "source": [
    "# Imprimindo o resultado\n",
    "alpha = 0.01\n",
    "w, path = optimize(Xst, y, alpha, eta =10**-12, iterations = 20000)\n",
    "print(\"Coeficiente finais padronizados: \" + ','.join(map(lambda x: \"%0.4f\" % x, w)))"
   ]
  },
  {
   "cell_type": "code",
   "execution_count": 26,
   "id": "201de01b",
   "metadata": {},
   "outputs": [],
   "source": [
    "# Desfazendo a padronização\n",
    "unstandardized_betas = w[-1] / original_stds\n",
    "unstandardized_bias = w[-1]-np.sum((original_means / original_stds) * w[-1]) "
   ]
  },
  {
   "cell_type": "code",
   "execution_count": 27,
   "id": "65a89811",
   "metadata": {},
   "outputs": [
    {
     "name": "stdout",
     "output_type": "stream",
     "text": [
      "    bias: -474.7030\n",
      "Hour_coded_:  11.9211\n",
      "Immobilized_bus: 141.2624\n",
      "Broken_Truck:  84.5379\n",
      "Vehicle_excess: 547.5940\n",
      "Accident_victim: 133.8824\n",
      "Running_over: 268.8404\n",
      "Fire_vehicles: 1082.8591\n",
      "Occurrence_involving_freight: 1082.8591\n",
      "Incident_involving_dangerous_freight: 1082.8591\n",
      "Lack_of_electricity: 184.7382\n",
      "    Fire: 1082.8591\n",
      "Point_of_flooding: 130.7290\n",
      "Manifestations: 418.7650\n",
      "Defect_in_the_network_of_trolleybuses: 113.7948\n",
      "Tree_on_the_road: 450.5613\n",
      "Semaphore_off: 200.8237\n",
      "Intermittent_Semaphore: 768.5702\n"
     ]
    }
   ],
   "source": [
    "# Imprimindo o Resultado\n",
    "print('%8s: %8.4f' % ('bias', unstandardized_bias))\n",
    "for beta, varname in zip(unstandardized_betas, variables):\n",
    "    print('%8s: %8.4f' % (varname, beta))"
   ]
  },
  {
   "cell_type": "code",
   "execution_count": 28,
   "id": "f54b9898",
   "metadata": {},
   "outputs": [],
   "source": [
    "# Criando o modelo\n",
    "model = linear_model.LinearRegression(normalize = False, fit_intercept = True)"
   ]
  },
  {
   "cell_type": "code",
   "execution_count": 29,
   "id": "afd3f36f",
   "metadata": {},
   "outputs": [
    {
     "data": {
      "text/html": [
       "<style>#sk-container-id-1 {color: black;background-color: white;}#sk-container-id-1 pre{padding: 0;}#sk-container-id-1 div.sk-toggleable {background-color: white;}#sk-container-id-1 label.sk-toggleable__label {cursor: pointer;display: block;width: 100%;margin-bottom: 0;padding: 0.3em;box-sizing: border-box;text-align: center;}#sk-container-id-1 label.sk-toggleable__label-arrow:before {content: \"▸\";float: left;margin-right: 0.25em;color: #696969;}#sk-container-id-1 label.sk-toggleable__label-arrow:hover:before {color: black;}#sk-container-id-1 div.sk-estimator:hover label.sk-toggleable__label-arrow:before {color: black;}#sk-container-id-1 div.sk-toggleable__content {max-height: 0;max-width: 0;overflow: hidden;text-align: left;background-color: #f0f8ff;}#sk-container-id-1 div.sk-toggleable__content pre {margin: 0.2em;color: black;border-radius: 0.25em;background-color: #f0f8ff;}#sk-container-id-1 input.sk-toggleable__control:checked~div.sk-toggleable__content {max-height: 200px;max-width: 100%;overflow: auto;}#sk-container-id-1 input.sk-toggleable__control:checked~label.sk-toggleable__label-arrow:before {content: \"▾\";}#sk-container-id-1 div.sk-estimator input.sk-toggleable__control:checked~label.sk-toggleable__label {background-color: #d4ebff;}#sk-container-id-1 div.sk-label input.sk-toggleable__control:checked~label.sk-toggleable__label {background-color: #d4ebff;}#sk-container-id-1 input.sk-hidden--visually {border: 0;clip: rect(1px 1px 1px 1px);clip: rect(1px, 1px, 1px, 1px);height: 1px;margin: -1px;overflow: hidden;padding: 0;position: absolute;width: 1px;}#sk-container-id-1 div.sk-estimator {font-family: monospace;background-color: #f0f8ff;border: 1px dotted black;border-radius: 0.25em;box-sizing: border-box;margin-bottom: 0.5em;}#sk-container-id-1 div.sk-estimator:hover {background-color: #d4ebff;}#sk-container-id-1 div.sk-parallel-item::after {content: \"\";width: 100%;border-bottom: 1px solid gray;flex-grow: 1;}#sk-container-id-1 div.sk-label:hover label.sk-toggleable__label {background-color: #d4ebff;}#sk-container-id-1 div.sk-serial::before {content: \"\";position: absolute;border-left: 1px solid gray;box-sizing: border-box;top: 0;bottom: 0;left: 50%;z-index: 0;}#sk-container-id-1 div.sk-serial {display: flex;flex-direction: column;align-items: center;background-color: white;padding-right: 0.2em;padding-left: 0.2em;position: relative;}#sk-container-id-1 div.sk-item {position: relative;z-index: 1;}#sk-container-id-1 div.sk-parallel {display: flex;align-items: stretch;justify-content: center;background-color: white;position: relative;}#sk-container-id-1 div.sk-item::before, #sk-container-id-1 div.sk-parallel-item::before {content: \"\";position: absolute;border-left: 1px solid gray;box-sizing: border-box;top: 0;bottom: 0;left: 50%;z-index: -1;}#sk-container-id-1 div.sk-parallel-item {display: flex;flex-direction: column;z-index: 1;position: relative;background-color: white;}#sk-container-id-1 div.sk-parallel-item:first-child::after {align-self: flex-end;width: 50%;}#sk-container-id-1 div.sk-parallel-item:last-child::after {align-self: flex-start;width: 50%;}#sk-container-id-1 div.sk-parallel-item:only-child::after {width: 0;}#sk-container-id-1 div.sk-dashed-wrapped {border: 1px dashed gray;margin: 0 0.4em 0.5em 0.4em;box-sizing: border-box;padding-bottom: 0.4em;background-color: white;}#sk-container-id-1 div.sk-label label {font-family: monospace;font-weight: bold;display: inline-block;line-height: 1.2em;}#sk-container-id-1 div.sk-label-container {text-align: center;}#sk-container-id-1 div.sk-container {/* jupyter's `normalize.less` sets `[hidden] { display: none; }` but bootstrap.min.css set `[hidden] { display: none !important; }` so we also need the `!important` here to be able to override the default hidden behavior on the sphinx rendered scikit-learn.org. See: https://github.com/scikit-learn/scikit-learn/issues/21755 */display: inline-block !important;position: relative;}#sk-container-id-1 div.sk-text-repr-fallback {display: none;}</style><div id=\"sk-container-id-1\" class=\"sk-top-container\"><div class=\"sk-text-repr-fallback\"><pre>LinearRegression(normalize=False)</pre><b>In a Jupyter environment, please rerun this cell to show the HTML representation or trust the notebook. <br />On GitHub, the HTML representation is unable to render, please try loading this page with nbviewer.org.</b></div><div class=\"sk-container\" hidden><div class=\"sk-item\"><div class=\"sk-estimator sk-toggleable\"><input class=\"sk-toggleable__control sk-hidden--visually\" id=\"sk-estimator-id-1\" type=\"checkbox\" checked><label for=\"sk-estimator-id-1\" class=\"sk-toggleable__label sk-toggleable__label-arrow\">LinearRegression</label><div class=\"sk-toggleable__content\"><pre>LinearRegression(normalize=False)</pre></div></div></div></div></div>"
      ],
      "text/plain": [
       "LinearRegression(normalize=False)"
      ]
     },
     "execution_count": 29,
     "metadata": {},
     "output_type": "execute_result"
    }
   ],
   "source": [
    "# Treinando o modelo com os dados não padronizados\n",
    "model.fit(X, y)"
   ]
  },
  {
   "cell_type": "code",
   "execution_count": 30,
   "id": "67e249fe",
   "metadata": {},
   "outputs": [
    {
     "name": "stdout",
     "output_type": "stream",
     "text": [
      "40.6976.3f Fire_vehicles\n",
      "38.0613.3f Vehicle_excess\n",
      "17.161.3f Lack_of_electricity\n",
      "15.3894.3f Point_of_flooding\n",
      "11.5382.3f Occurrence_involving_freight\n",
      "8.90629.3f Tree_on_the_road\n",
      "6.26726.3f Immobilized_bus\n",
      "5.52968.3f Running_over\n",
      "4.64365.3f Accident_victim\n",
      "4.3262.3f Defect_in_the_network_of_trolleybuses\n",
      "4.21548.3f Incident_involving_dangerous_freight\n",
      "3.91309.3f Intermittent_Semaphore\n",
      "3.21499.3f Hour_coded_\n",
      "1.0839.3f Broken_Truck\n",
      "0.87092.3f Semaphore_off\n",
      "0.710795.3f Manifestations\n",
      "0.453991.3f Fire\n"
     ]
    }
   ],
   "source": [
    "# Imprimindo os coeficientes e as variáveis\n",
    "for coef, var in sorted(zip(map(abs, model.coef_), data.columns[:-1]), reverse = True):\n",
    "    print(\"%g.3f %s\" % (coef,var))"
   ]
  },
  {
   "cell_type": "code",
   "execution_count": 31,
   "id": "8b9de60a",
   "metadata": {},
   "outputs": [],
   "source": [
    "# Padronizando os dados\n",
    "standardization = StandardScaler()\n",
    "Stand_coef_linear_reg = make_pipeline(standardization, model)"
   ]
  },
  {
   "cell_type": "code",
   "execution_count": 32,
   "id": "9011c8be",
   "metadata": {},
   "outputs": [
    {
     "data": {
      "text/html": [
       "<style>#sk-container-id-2 {color: black;background-color: white;}#sk-container-id-2 pre{padding: 0;}#sk-container-id-2 div.sk-toggleable {background-color: white;}#sk-container-id-2 label.sk-toggleable__label {cursor: pointer;display: block;width: 100%;margin-bottom: 0;padding: 0.3em;box-sizing: border-box;text-align: center;}#sk-container-id-2 label.sk-toggleable__label-arrow:before {content: \"▸\";float: left;margin-right: 0.25em;color: #696969;}#sk-container-id-2 label.sk-toggleable__label-arrow:hover:before {color: black;}#sk-container-id-2 div.sk-estimator:hover label.sk-toggleable__label-arrow:before {color: black;}#sk-container-id-2 div.sk-toggleable__content {max-height: 0;max-width: 0;overflow: hidden;text-align: left;background-color: #f0f8ff;}#sk-container-id-2 div.sk-toggleable__content pre {margin: 0.2em;color: black;border-radius: 0.25em;background-color: #f0f8ff;}#sk-container-id-2 input.sk-toggleable__control:checked~div.sk-toggleable__content {max-height: 200px;max-width: 100%;overflow: auto;}#sk-container-id-2 input.sk-toggleable__control:checked~label.sk-toggleable__label-arrow:before {content: \"▾\";}#sk-container-id-2 div.sk-estimator input.sk-toggleable__control:checked~label.sk-toggleable__label {background-color: #d4ebff;}#sk-container-id-2 div.sk-label input.sk-toggleable__control:checked~label.sk-toggleable__label {background-color: #d4ebff;}#sk-container-id-2 input.sk-hidden--visually {border: 0;clip: rect(1px 1px 1px 1px);clip: rect(1px, 1px, 1px, 1px);height: 1px;margin: -1px;overflow: hidden;padding: 0;position: absolute;width: 1px;}#sk-container-id-2 div.sk-estimator {font-family: monospace;background-color: #f0f8ff;border: 1px dotted black;border-radius: 0.25em;box-sizing: border-box;margin-bottom: 0.5em;}#sk-container-id-2 div.sk-estimator:hover {background-color: #d4ebff;}#sk-container-id-2 div.sk-parallel-item::after {content: \"\";width: 100%;border-bottom: 1px solid gray;flex-grow: 1;}#sk-container-id-2 div.sk-label:hover label.sk-toggleable__label {background-color: #d4ebff;}#sk-container-id-2 div.sk-serial::before {content: \"\";position: absolute;border-left: 1px solid gray;box-sizing: border-box;top: 0;bottom: 0;left: 50%;z-index: 0;}#sk-container-id-2 div.sk-serial {display: flex;flex-direction: column;align-items: center;background-color: white;padding-right: 0.2em;padding-left: 0.2em;position: relative;}#sk-container-id-2 div.sk-item {position: relative;z-index: 1;}#sk-container-id-2 div.sk-parallel {display: flex;align-items: stretch;justify-content: center;background-color: white;position: relative;}#sk-container-id-2 div.sk-item::before, #sk-container-id-2 div.sk-parallel-item::before {content: \"\";position: absolute;border-left: 1px solid gray;box-sizing: border-box;top: 0;bottom: 0;left: 50%;z-index: -1;}#sk-container-id-2 div.sk-parallel-item {display: flex;flex-direction: column;z-index: 1;position: relative;background-color: white;}#sk-container-id-2 div.sk-parallel-item:first-child::after {align-self: flex-end;width: 50%;}#sk-container-id-2 div.sk-parallel-item:last-child::after {align-self: flex-start;width: 50%;}#sk-container-id-2 div.sk-parallel-item:only-child::after {width: 0;}#sk-container-id-2 div.sk-dashed-wrapped {border: 1px dashed gray;margin: 0 0.4em 0.5em 0.4em;box-sizing: border-box;padding-bottom: 0.4em;background-color: white;}#sk-container-id-2 div.sk-label label {font-family: monospace;font-weight: bold;display: inline-block;line-height: 1.2em;}#sk-container-id-2 div.sk-label-container {text-align: center;}#sk-container-id-2 div.sk-container {/* jupyter's `normalize.less` sets `[hidden] { display: none; }` but bootstrap.min.css set `[hidden] { display: none !important; }` so we also need the `!important` here to be able to override the default hidden behavior on the sphinx rendered scikit-learn.org. See: https://github.com/scikit-learn/scikit-learn/issues/21755 */display: inline-block !important;position: relative;}#sk-container-id-2 div.sk-text-repr-fallback {display: none;}</style><div id=\"sk-container-id-2\" class=\"sk-top-container\"><div class=\"sk-text-repr-fallback\"><pre>Pipeline(steps=[(&#x27;standardscaler&#x27;, StandardScaler()),\n",
       "                (&#x27;linearregression&#x27;, LinearRegression(normalize=False))])</pre><b>In a Jupyter environment, please rerun this cell to show the HTML representation or trust the notebook. <br />On GitHub, the HTML representation is unable to render, please try loading this page with nbviewer.org.</b></div><div class=\"sk-container\" hidden><div class=\"sk-item sk-dashed-wrapped\"><div class=\"sk-label-container\"><div class=\"sk-label sk-toggleable\"><input class=\"sk-toggleable__control sk-hidden--visually\" id=\"sk-estimator-id-2\" type=\"checkbox\" ><label for=\"sk-estimator-id-2\" class=\"sk-toggleable__label sk-toggleable__label-arrow\">Pipeline</label><div class=\"sk-toggleable__content\"><pre>Pipeline(steps=[(&#x27;standardscaler&#x27;, StandardScaler()),\n",
       "                (&#x27;linearregression&#x27;, LinearRegression(normalize=False))])</pre></div></div></div><div class=\"sk-serial\"><div class=\"sk-item\"><div class=\"sk-estimator sk-toggleable\"><input class=\"sk-toggleable__control sk-hidden--visually\" id=\"sk-estimator-id-3\" type=\"checkbox\" ><label for=\"sk-estimator-id-3\" class=\"sk-toggleable__label sk-toggleable__label-arrow\">StandardScaler</label><div class=\"sk-toggleable__content\"><pre>StandardScaler()</pre></div></div></div><div class=\"sk-item\"><div class=\"sk-estimator sk-toggleable\"><input class=\"sk-toggleable__control sk-hidden--visually\" id=\"sk-estimator-id-4\" type=\"checkbox\" ><label for=\"sk-estimator-id-4\" class=\"sk-toggleable__label sk-toggleable__label-arrow\">LinearRegression</label><div class=\"sk-toggleable__content\"><pre>LinearRegression(normalize=False)</pre></div></div></div></div></div></div></div>"
      ],
      "text/plain": [
       "Pipeline(steps=[('standardscaler', StandardScaler()),\n",
       "                ('linearregression', LinearRegression(normalize=False))])"
      ]
     },
     "execution_count": 32,
     "metadata": {},
     "output_type": "execute_result"
    }
   ],
   "source": [
    "# Treinando o modelo com os dados padronizados\n",
    "Stand_coef_linear_reg.fit(X, y)"
   ]
  },
  {
   "cell_type": "code",
   "execution_count": 33,
   "id": "881c7022",
   "metadata": {},
   "outputs": [
    {
     "name": "stdout",
     "output_type": "stream",
     "text": [
      "25.0412.3f Hour_coded_\n",
      "10.9305.3f Point_of_flooding\n",
      "8.62532.3f Lack_of_electricity\n",
      "6.45379.3f Vehicle_excess\n",
      "4.11947.3f Immobilized_bus\n",
      "3.53.3f Defect_in_the_network_of_trolleybuses\n",
      "3.48969.3f Fire_vehicles\n",
      "3.22052.3f Accident_victim\n",
      "1.90983.3f Running_over\n",
      "1.83541.3f Tree_on_the_road\n",
      "1.1905.3f Broken_Truck\n",
      "0.989365.3f Occurrence_involving_freight\n",
      "0.472745.3f Intermittent_Semaphore\n",
      "0.402674.3f Semaphore_off\n",
      "0.361464.3f Incident_involving_dangerous_freight\n",
      "0.157603.3f Manifestations\n",
      "0.0389283.3f Fire\n"
     ]
    }
   ],
   "source": [
    "# Imprimindo os coeficientes e as variáveis\n",
    "for coef, var in sorted(zip(map(abs, Stand_coef_linear_reg.steps[1][1].coef_), data.columns[:-1]), reverse = True):\n",
    "    print(\"%g.3f %s\" % (coef,var))"
   ]
  },
  {
   "cell_type": "markdown",
   "id": "f7378377",
   "metadata": {},
   "source": [
    "### Usando o R2 "
   ]
  },
  {
   "cell_type": "code",
   "execution_count": 34,
   "id": "1e562609",
   "metadata": {},
   "outputs": [],
   "source": [
    "model = linear_model.LinearRegression(normalize = False, fit_intercept = True)"
   ]
  },
  {
   "cell_type": "code",
   "execution_count": 35,
   "id": "76766bbf",
   "metadata": {},
   "outputs": [],
   "source": [
    "def r2_est(X,y):\n",
    "    return r2_score(y, model.fit(X, y).predict(X))"
   ]
  },
  {
   "cell_type": "code",
   "execution_count": 36,
   "id": "6cb2889c",
   "metadata": {},
   "outputs": [
    {
     "name": "stdout",
     "output_type": "stream",
     "text": [
      "Coeficiente R2: 0.524\n"
     ]
    }
   ],
   "source": [
    "print('Coeficiente R2: %0.3f' % r2_est(X, y))"
   ]
  },
  {
   "cell_type": "code",
   "execution_count": 37,
   "id": "e417090d",
   "metadata": {},
   "outputs": [
    {
     "name": "stdout",
     "output_type": "stream",
     "text": [
      " 0.190 Hour_coded_\n",
      " 0.037 Point_of_flooding\n",
      " 0.016 Lack_of_electricity\n",
      " 0.015 Vehicle_excess\n",
      " 0.005 Immobilized_bus\n",
      " 0.005 Fire_vehicles\n",
      " 0.004 Defect_in_the_network_of_trolleybuses\n",
      " 0.003 Accident_victim\n",
      " 0.001 Tree_on_the_road\n",
      " 0.001 Running_over\n",
      " 0.000 Broken_Truck\n",
      " 0.000 Occurrence_involving_freight\n",
      " 0.000 Intermittent_Semaphore\n",
      " 0.000 Incident_involving_dangerous_freight\n",
      " 0.000 Semaphore_off\n",
      " 0.000 Manifestations\n",
      " 0.000 Fire\n"
     ]
    }
   ],
   "source": [
    "# Impacto do R2 em cada atributo\n",
    "r2_impact = list()\n",
    "for j in range(X.shape[1]):\n",
    "    selection = [i for i in range(X.shape[1]) if i !=j]\n",
    "    r2_impact.append(((r2_est(X,y) - r2_est(X.values[:,selection],y)), data.columns[j]))\n",
    "    \n",
    "for imp, varname in sorted(r2_impact, reverse = True):\n",
    "        print('%6.3f %s' % (imp, varname))"
   ]
  }
 ],
 "metadata": {
  "kernelspec": {
   "display_name": "Python 3 (ipykernel)",
   "language": "python",
   "name": "python3"
  },
  "language_info": {
   "codemirror_mode": {
    "name": "ipython",
    "version": 3
   },
   "file_extension": ".py",
   "mimetype": "text/x-python",
   "name": "python",
   "nbconvert_exporter": "python",
   "pygments_lexer": "ipython3",
   "version": "3.10.6"
  }
 },
 "nbformat": 4,
 "nbformat_minor": 5
}
